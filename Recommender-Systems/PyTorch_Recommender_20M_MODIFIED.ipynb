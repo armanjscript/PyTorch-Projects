{
  "nbformat": 4,
  "nbformat_minor": 0,
  "metadata": {
    "colab": {
      "provenance": [],
      "gpuType": "T4"
    },
    "kernelspec": {
      "name": "python3",
      "display_name": "Python 3"
    },
    "language_info": {
      "name": "python"
    },
    "accelerator": "GPU"
  },
  "cells": [
    {
      "cell_type": "code",
      "execution_count": 21,
      "metadata": {
        "id": "5xPcbjKYLNCA"
      },
      "outputs": [],
      "source": [
        "import torch\n",
        "import torch.nn as nn\n",
        "import torch.nn.functional as F\n",
        "from sklearn.utils import shuffle\n",
        "import numpy as np\n",
        "import matplotlib.pyplot as plt\n",
        "import pandas as pd\n",
        "from datetime import datetime"
      ]
    },
    {
      "cell_type": "code",
      "source": [
        "from google.colab import drive\n",
        "drive.mount('/content/drive')"
      ],
      "metadata": {
        "colab": {
          "base_uri": "https://localhost:8080/"
        },
        "id": "hUWd3-PNTKoQ",
        "outputId": "e9061011-49e7-47a7-f884-44893ea51313"
      },
      "execution_count": 2,
      "outputs": [
        {
          "output_type": "stream",
          "name": "stdout",
          "text": [
            "Mounted at /content/drive\n"
          ]
        }
      ]
    },
    {
      "cell_type": "code",
      "source": [
        "!wget -nc https://files.grouplens.org/datasets/movielens/ml-20m.zip"
      ],
      "metadata": {
        "id": "U8iwvLEQQSe5",
        "colab": {
          "base_uri": "https://localhost:8080/"
        },
        "outputId": "ffd14bab-c828-4034-9cb1-4c4e69a288b3"
      },
      "execution_count": 3,
      "outputs": [
        {
          "output_type": "stream",
          "name": "stdout",
          "text": [
            "--2024-05-02 10:55:03--  https://files.grouplens.org/datasets/movielens/ml-20m.zip\n",
            "Resolving files.grouplens.org (files.grouplens.org)... 128.101.65.152\n",
            "Connecting to files.grouplens.org (files.grouplens.org)|128.101.65.152|:443... connected.\n",
            "HTTP request sent, awaiting response... 200 OK\n",
            "Length: 198702078 (189M) [application/zip]\n",
            "Saving to: ‘ml-20m.zip’\n",
            "\n",
            "ml-20m.zip          100%[===================>] 189.50M   133MB/s    in 1.4s    \n",
            "\n",
            "2024-05-02 10:55:05 (133 MB/s) - ‘ml-20m.zip’ saved [198702078/198702078]\n",
            "\n"
          ]
        }
      ]
    },
    {
      "cell_type": "code",
      "source": [
        "!unzip -n ml-20m.zip"
      ],
      "metadata": {
        "colab": {
          "base_uri": "https://localhost:8080/"
        },
        "id": "niw_zY4V4Qv7",
        "outputId": "7d2950c4-f3e6-440d-87f4-4069a7942636"
      },
      "execution_count": 4,
      "outputs": [
        {
          "output_type": "stream",
          "name": "stdout",
          "text": [
            "Archive:  ml-20m.zip\n",
            "   creating: ml-20m/\n",
            "  inflating: ml-20m/genome-scores.csv  \n",
            "  inflating: ml-20m/genome-tags.csv  \n",
            "  inflating: ml-20m/links.csv        \n",
            "  inflating: ml-20m/movies.csv       \n",
            "  inflating: ml-20m/ratings.csv      \n",
            "  inflating: ml-20m/README.txt       \n",
            "  inflating: ml-20m/tags.csv         \n"
          ]
        }
      ]
    },
    {
      "cell_type": "code",
      "source": [
        "!ls"
      ],
      "metadata": {
        "colab": {
          "base_uri": "https://localhost:8080/"
        },
        "id": "VzNXMfAo4cCl",
        "outputId": "ea2b870b-b1bd-4d50-df33-abb916b1bfd5"
      },
      "execution_count": 5,
      "outputs": [
        {
          "output_type": "stream",
          "name": "stdout",
          "text": [
            "drive  ml-20m  ml-20m.zip  sample_data\n"
          ]
        }
      ]
    },
    {
      "cell_type": "code",
      "source": [
        "df = pd.read_csv('ml-20m/ratings.csv')\n",
        "df.head()"
      ],
      "metadata": {
        "id": "yhL9KBbi8M_5",
        "colab": {
          "base_uri": "https://localhost:8080/",
          "height": 206
        },
        "outputId": "85843509-d107-4cf0-ad82-5e7b0fdec181"
      },
      "execution_count": 6,
      "outputs": [
        {
          "output_type": "execute_result",
          "data": {
            "text/plain": [
              "   userId  movieId  rating   timestamp\n",
              "0       1        2     3.5  1112486027\n",
              "1       1       29     3.5  1112484676\n",
              "2       1       32     3.5  1112484819\n",
              "3       1       47     3.5  1112484727\n",
              "4       1       50     3.5  1112484580"
            ],
            "text/html": [
              "\n",
              "  <div id=\"df-b8527c6c-281f-421d-9701-bd68f57f0778\" class=\"colab-df-container\">\n",
              "    <div>\n",
              "<style scoped>\n",
              "    .dataframe tbody tr th:only-of-type {\n",
              "        vertical-align: middle;\n",
              "    }\n",
              "\n",
              "    .dataframe tbody tr th {\n",
              "        vertical-align: top;\n",
              "    }\n",
              "\n",
              "    .dataframe thead th {\n",
              "        text-align: right;\n",
              "    }\n",
              "</style>\n",
              "<table border=\"1\" class=\"dataframe\">\n",
              "  <thead>\n",
              "    <tr style=\"text-align: right;\">\n",
              "      <th></th>\n",
              "      <th>userId</th>\n",
              "      <th>movieId</th>\n",
              "      <th>rating</th>\n",
              "      <th>timestamp</th>\n",
              "    </tr>\n",
              "  </thead>\n",
              "  <tbody>\n",
              "    <tr>\n",
              "      <th>0</th>\n",
              "      <td>1</td>\n",
              "      <td>2</td>\n",
              "      <td>3.5</td>\n",
              "      <td>1112486027</td>\n",
              "    </tr>\n",
              "    <tr>\n",
              "      <th>1</th>\n",
              "      <td>1</td>\n",
              "      <td>29</td>\n",
              "      <td>3.5</td>\n",
              "      <td>1112484676</td>\n",
              "    </tr>\n",
              "    <tr>\n",
              "      <th>2</th>\n",
              "      <td>1</td>\n",
              "      <td>32</td>\n",
              "      <td>3.5</td>\n",
              "      <td>1112484819</td>\n",
              "    </tr>\n",
              "    <tr>\n",
              "      <th>3</th>\n",
              "      <td>1</td>\n",
              "      <td>47</td>\n",
              "      <td>3.5</td>\n",
              "      <td>1112484727</td>\n",
              "    </tr>\n",
              "    <tr>\n",
              "      <th>4</th>\n",
              "      <td>1</td>\n",
              "      <td>50</td>\n",
              "      <td>3.5</td>\n",
              "      <td>1112484580</td>\n",
              "    </tr>\n",
              "  </tbody>\n",
              "</table>\n",
              "</div>\n",
              "    <div class=\"colab-df-buttons\">\n",
              "\n",
              "  <div class=\"colab-df-container\">\n",
              "    <button class=\"colab-df-convert\" onclick=\"convertToInteractive('df-b8527c6c-281f-421d-9701-bd68f57f0778')\"\n",
              "            title=\"Convert this dataframe to an interactive table.\"\n",
              "            style=\"display:none;\">\n",
              "\n",
              "  <svg xmlns=\"http://www.w3.org/2000/svg\" height=\"24px\" viewBox=\"0 -960 960 960\">\n",
              "    <path d=\"M120-120v-720h720v720H120Zm60-500h600v-160H180v160Zm220 220h160v-160H400v160Zm0 220h160v-160H400v160ZM180-400h160v-160H180v160Zm440 0h160v-160H620v160ZM180-180h160v-160H180v160Zm440 0h160v-160H620v160Z\"/>\n",
              "  </svg>\n",
              "    </button>\n",
              "\n",
              "  <style>\n",
              "    .colab-df-container {\n",
              "      display:flex;\n",
              "      gap: 12px;\n",
              "    }\n",
              "\n",
              "    .colab-df-convert {\n",
              "      background-color: #E8F0FE;\n",
              "      border: none;\n",
              "      border-radius: 50%;\n",
              "      cursor: pointer;\n",
              "      display: none;\n",
              "      fill: #1967D2;\n",
              "      height: 32px;\n",
              "      padding: 0 0 0 0;\n",
              "      width: 32px;\n",
              "    }\n",
              "\n",
              "    .colab-df-convert:hover {\n",
              "      background-color: #E2EBFA;\n",
              "      box-shadow: 0px 1px 2px rgba(60, 64, 67, 0.3), 0px 1px 3px 1px rgba(60, 64, 67, 0.15);\n",
              "      fill: #174EA6;\n",
              "    }\n",
              "\n",
              "    .colab-df-buttons div {\n",
              "      margin-bottom: 4px;\n",
              "    }\n",
              "\n",
              "    [theme=dark] .colab-df-convert {\n",
              "      background-color: #3B4455;\n",
              "      fill: #D2E3FC;\n",
              "    }\n",
              "\n",
              "    [theme=dark] .colab-df-convert:hover {\n",
              "      background-color: #434B5C;\n",
              "      box-shadow: 0px 1px 3px 1px rgba(0, 0, 0, 0.15);\n",
              "      filter: drop-shadow(0px 1px 2px rgba(0, 0, 0, 0.3));\n",
              "      fill: #FFFFFF;\n",
              "    }\n",
              "  </style>\n",
              "\n",
              "    <script>\n",
              "      const buttonEl =\n",
              "        document.querySelector('#df-b8527c6c-281f-421d-9701-bd68f57f0778 button.colab-df-convert');\n",
              "      buttonEl.style.display =\n",
              "        google.colab.kernel.accessAllowed ? 'block' : 'none';\n",
              "\n",
              "      async function convertToInteractive(key) {\n",
              "        const element = document.querySelector('#df-b8527c6c-281f-421d-9701-bd68f57f0778');\n",
              "        const dataTable =\n",
              "          await google.colab.kernel.invokeFunction('convertToInteractive',\n",
              "                                                    [key], {});\n",
              "        if (!dataTable) return;\n",
              "\n",
              "        const docLinkHtml = 'Like what you see? Visit the ' +\n",
              "          '<a target=\"_blank\" href=https://colab.research.google.com/notebooks/data_table.ipynb>data table notebook</a>'\n",
              "          + ' to learn more about interactive tables.';\n",
              "        element.innerHTML = '';\n",
              "        dataTable['output_type'] = 'display_data';\n",
              "        await google.colab.output.renderOutput(dataTable, element);\n",
              "        const docLink = document.createElement('div');\n",
              "        docLink.innerHTML = docLinkHtml;\n",
              "        element.appendChild(docLink);\n",
              "      }\n",
              "    </script>\n",
              "  </div>\n",
              "\n",
              "\n",
              "<div id=\"df-d77cded1-0a02-4bfe-a904-baf75b2971bf\">\n",
              "  <button class=\"colab-df-quickchart\" onclick=\"quickchart('df-d77cded1-0a02-4bfe-a904-baf75b2971bf')\"\n",
              "            title=\"Suggest charts\"\n",
              "            style=\"display:none;\">\n",
              "\n",
              "<svg xmlns=\"http://www.w3.org/2000/svg\" height=\"24px\"viewBox=\"0 0 24 24\"\n",
              "     width=\"24px\">\n",
              "    <g>\n",
              "        <path d=\"M19 3H5c-1.1 0-2 .9-2 2v14c0 1.1.9 2 2 2h14c1.1 0 2-.9 2-2V5c0-1.1-.9-2-2-2zM9 17H7v-7h2v7zm4 0h-2V7h2v10zm4 0h-2v-4h2v4z\"/>\n",
              "    </g>\n",
              "</svg>\n",
              "  </button>\n",
              "\n",
              "<style>\n",
              "  .colab-df-quickchart {\n",
              "      --bg-color: #E8F0FE;\n",
              "      --fill-color: #1967D2;\n",
              "      --hover-bg-color: #E2EBFA;\n",
              "      --hover-fill-color: #174EA6;\n",
              "      --disabled-fill-color: #AAA;\n",
              "      --disabled-bg-color: #DDD;\n",
              "  }\n",
              "\n",
              "  [theme=dark] .colab-df-quickchart {\n",
              "      --bg-color: #3B4455;\n",
              "      --fill-color: #D2E3FC;\n",
              "      --hover-bg-color: #434B5C;\n",
              "      --hover-fill-color: #FFFFFF;\n",
              "      --disabled-bg-color: #3B4455;\n",
              "      --disabled-fill-color: #666;\n",
              "  }\n",
              "\n",
              "  .colab-df-quickchart {\n",
              "    background-color: var(--bg-color);\n",
              "    border: none;\n",
              "    border-radius: 50%;\n",
              "    cursor: pointer;\n",
              "    display: none;\n",
              "    fill: var(--fill-color);\n",
              "    height: 32px;\n",
              "    padding: 0;\n",
              "    width: 32px;\n",
              "  }\n",
              "\n",
              "  .colab-df-quickchart:hover {\n",
              "    background-color: var(--hover-bg-color);\n",
              "    box-shadow: 0 1px 2px rgba(60, 64, 67, 0.3), 0 1px 3px 1px rgba(60, 64, 67, 0.15);\n",
              "    fill: var(--button-hover-fill-color);\n",
              "  }\n",
              "\n",
              "  .colab-df-quickchart-complete:disabled,\n",
              "  .colab-df-quickchart-complete:disabled:hover {\n",
              "    background-color: var(--disabled-bg-color);\n",
              "    fill: var(--disabled-fill-color);\n",
              "    box-shadow: none;\n",
              "  }\n",
              "\n",
              "  .colab-df-spinner {\n",
              "    border: 2px solid var(--fill-color);\n",
              "    border-color: transparent;\n",
              "    border-bottom-color: var(--fill-color);\n",
              "    animation:\n",
              "      spin 1s steps(1) infinite;\n",
              "  }\n",
              "\n",
              "  @keyframes spin {\n",
              "    0% {\n",
              "      border-color: transparent;\n",
              "      border-bottom-color: var(--fill-color);\n",
              "      border-left-color: var(--fill-color);\n",
              "    }\n",
              "    20% {\n",
              "      border-color: transparent;\n",
              "      border-left-color: var(--fill-color);\n",
              "      border-top-color: var(--fill-color);\n",
              "    }\n",
              "    30% {\n",
              "      border-color: transparent;\n",
              "      border-left-color: var(--fill-color);\n",
              "      border-top-color: var(--fill-color);\n",
              "      border-right-color: var(--fill-color);\n",
              "    }\n",
              "    40% {\n",
              "      border-color: transparent;\n",
              "      border-right-color: var(--fill-color);\n",
              "      border-top-color: var(--fill-color);\n",
              "    }\n",
              "    60% {\n",
              "      border-color: transparent;\n",
              "      border-right-color: var(--fill-color);\n",
              "    }\n",
              "    80% {\n",
              "      border-color: transparent;\n",
              "      border-right-color: var(--fill-color);\n",
              "      border-bottom-color: var(--fill-color);\n",
              "    }\n",
              "    90% {\n",
              "      border-color: transparent;\n",
              "      border-bottom-color: var(--fill-color);\n",
              "    }\n",
              "  }\n",
              "</style>\n",
              "\n",
              "  <script>\n",
              "    async function quickchart(key) {\n",
              "      const quickchartButtonEl =\n",
              "        document.querySelector('#' + key + ' button');\n",
              "      quickchartButtonEl.disabled = true;  // To prevent multiple clicks.\n",
              "      quickchartButtonEl.classList.add('colab-df-spinner');\n",
              "      try {\n",
              "        const charts = await google.colab.kernel.invokeFunction(\n",
              "            'suggestCharts', [key], {});\n",
              "      } catch (error) {\n",
              "        console.error('Error during call to suggestCharts:', error);\n",
              "      }\n",
              "      quickchartButtonEl.classList.remove('colab-df-spinner');\n",
              "      quickchartButtonEl.classList.add('colab-df-quickchart-complete');\n",
              "    }\n",
              "    (() => {\n",
              "      let quickchartButtonEl =\n",
              "        document.querySelector('#df-d77cded1-0a02-4bfe-a904-baf75b2971bf button');\n",
              "      quickchartButtonEl.style.display =\n",
              "        google.colab.kernel.accessAllowed ? 'block' : 'none';\n",
              "    })();\n",
              "  </script>\n",
              "</div>\n",
              "    </div>\n",
              "  </div>\n"
            ],
            "application/vnd.google.colaboratory.intrinsic+json": {
              "type": "dataframe",
              "variable_name": "df"
            }
          },
          "metadata": {},
          "execution_count": 6
        }
      ]
    },
    {
      "cell_type": "code",
      "source": [
        "df.userId = pd.Categorical(df.userId)\n",
        "df['new_user_id'] = df.userId.cat.codes"
      ],
      "metadata": {
        "id": "uPdsT-ddR-Hs"
      },
      "execution_count": 7,
      "outputs": []
    },
    {
      "cell_type": "code",
      "source": [
        "df.movieId = pd.Categorical(df.movieId)\n",
        "df['new_movie_id'] = df.movieId.cat.codes"
      ],
      "metadata": {
        "id": "MR3bmgl0-Vi7"
      },
      "execution_count": 8,
      "outputs": []
    },
    {
      "cell_type": "code",
      "source": [
        "#Get user ids and movie ids and their ratings\n",
        "user_ids = df['new_user_id'].values\n",
        "movie_ids = df['new_movie_id'].values\n",
        "ratings = df['rating'].values - 2.5"
      ],
      "metadata": {
        "id": "obXpNZ2N7M58"
      },
      "execution_count": 9,
      "outputs": []
    },
    {
      "cell_type": "code",
      "source": [
        "# Get number of users and number of movies\n",
        "N = len(set(user_ids))\n",
        "M = len(set(movie_ids))"
      ],
      "metadata": {
        "id": "LAFmz-qzCgS5"
      },
      "execution_count": 24,
      "outputs": []
    },
    {
      "cell_type": "code",
      "source": [
        "#Set embedding dimension\n",
        "D = 10"
      ],
      "metadata": {
        "id": "AhaJTaIt72OZ"
      },
      "execution_count": 25,
      "outputs": []
    },
    {
      "cell_type": "code",
      "source": [
        "#Make a neural network\n",
        "class Model(nn.Module):\n",
        "  def __init__(self, n_users, n_items, embed_dim, n_hidden = 1024):\n",
        "    super(Model, self).__init__()\n",
        "    self.N = n_users\n",
        "    self.M = n_items\n",
        "    self.D = embed_dim\n",
        "\n",
        "    self.u_emb = nn.Embedding(self.N, self.D)\n",
        "    self.m_emb = nn.Embedding(self.M, self.D)\n",
        "    self.fc1 = nn.Linear(2 * self.D, n_hidden)\n",
        "    self.fc2 = nn.Linear(n_hidden, 1)\n",
        "\n",
        "    #set the weights since N(0, 1) leads to poor results\n",
        "    self.u_emb.weight.data = nn.Parameter(\n",
        "        torch.Tensor(np.random.randn(self.N, self.D) * 0.01)\n",
        "    )\n",
        "    self.m_emb.weight.data = nn.Parameter(\n",
        "        torch.Tensor(np.random.randn(self.M, self.D) * 0.01)\n",
        "    )\n",
        "\n",
        "  def forward(self, u, m):\n",
        "    u = self.u_emb(u)\n",
        "    m = self.m_emb(m)\n",
        "\n",
        "    #merge\n",
        "    out = torch.cat((u, m), 1)\n",
        "\n",
        "    #ANN\n",
        "    out = self.fc1(out)\n",
        "    out = F.relu(out)\n",
        "    out = self.fc2(out)\n",
        "    return out"
      ],
      "metadata": {
        "id": "2xlE77BRZoeA"
      },
      "execution_count": 26,
      "outputs": []
    },
    {
      "cell_type": "code",
      "source": [
        "device = torch.device(\"cuda:0\" if torch.cuda.is_available() else \"cpu\")\n",
        "print(device)"
      ],
      "metadata": {
        "colab": {
          "base_uri": "https://localhost:8080/"
        },
        "id": "V3X9r6HcBVid",
        "outputId": "381a12ca-16a1-44c5-cf15-eccecb682707"
      },
      "execution_count": 27,
      "outputs": [
        {
          "output_type": "stream",
          "name": "stdout",
          "text": [
            "cuda:0\n"
          ]
        }
      ]
    },
    {
      "cell_type": "code",
      "source": [
        "model = Model(N, M, D)\n",
        "model.to(device)"
      ],
      "metadata": {
        "id": "vCCAD2hKe6yX",
        "colab": {
          "base_uri": "https://localhost:8080/"
        },
        "outputId": "4956206f-8a86-4d8d-9c1a-13863ace42bd"
      },
      "execution_count": 28,
      "outputs": [
        {
          "output_type": "execute_result",
          "data": {
            "text/plain": [
              "Model(\n",
              "  (u_emb): Embedding(138493, 10)\n",
              "  (m_emb): Embedding(26744, 10)\n",
              "  (fc1): Linear(in_features=20, out_features=1024, bias=True)\n",
              "  (fc2): Linear(in_features=1024, out_features=1, bias=True)\n",
              ")"
            ]
          },
          "metadata": {},
          "execution_count": 28
        }
      ]
    },
    {
      "cell_type": "code",
      "source": [
        "#Loss and Optimizer\n",
        "criterion = nn.MSELoss()\n",
        "optimizer = torch.optim.SGD(model.parameters(), lr=0.08, momentum=0.9)"
      ],
      "metadata": {
        "id": "1PIUJRHfeisO"
      },
      "execution_count": 29,
      "outputs": []
    },
    {
      "cell_type": "code",
      "source": [
        "# A function to encapsualte the training loop\n",
        "def  batch_gd(model, criterion, optimizer, train_data, test_data, epochs, bs=512):\n",
        "  train_users, train_movies, train_ratings = train_data\n",
        "  test_users, test_movies, test_ratings = test_data\n",
        "\n",
        "  train_losses = np.zeros(epochs)\n",
        "  test_losses = np.zeros(epochs)\n",
        "\n",
        "  #batches per epoch\n",
        "  Ntrain = len(train_users)\n",
        "  batches_per_epoch = int(np.ceil(Ntrain / bs))\n",
        "\n",
        "  for it in range(epochs):\n",
        "    t0 = datetime.now()\n",
        "    train_loss = []\n",
        "\n",
        "    # shuffle each batch\n",
        "    train_users, train_movies, train_ratings = shuffle(\n",
        "        train_users, train_movies, train_ratings\n",
        "    )\n",
        "\n",
        "    for j in range(batches_per_epoch):\n",
        "      users = train_users[j * bs: (j+1) * bs]\n",
        "      movies = train_movies[j * bs: (j+1) * bs]\n",
        "      targets = train_ratings[j * bs: (j+1) * bs]\n",
        "\n",
        "      #convert to tensor\n",
        "      users = torch.from_numpy(users).long()\n",
        "      movies = torch.from_numpy(movies).long()\n",
        "      targets = torch.from_numpy(targets)\n",
        "\n",
        "      targets = targets.view(-1, 1).float()\n",
        "      users, movies, targets = users.to(device), movies.to(device), targets.to(device)\n",
        "\n",
        "      optimizer.zero_grad()\n",
        "\n",
        "      outputs = model(users, movies)\n",
        "      loss = criterion(outputs, targets)\n",
        "\n",
        "      loss.backward()\n",
        "      optimizer.step()\n",
        "\n",
        "      train_loss.append(loss.item())\n",
        "\n",
        "    train_loss = np.mean(train_loss)\n",
        "\n",
        "    test_loss = []\n",
        "    for j in range(int(np.ceil(len(test_users)/bs))):\n",
        "      users = test_users[j * bs: (j+1) * bs]\n",
        "      movies = test_movies[j * bs: (j+1) * bs]\n",
        "      targets = test_ratings[j * bs: (j+1) * bs]\n",
        "\n",
        "      #convert to Tensor\n",
        "      users = torch.from_numpy(users).long()\n",
        "      movies = torch.from_numpy(movies).long()\n",
        "      targets = torch.from_numpy(targets)\n",
        "\n",
        "      targets = targets.view(-1, 1).float()\n",
        "      users, movies, targets = users.to(device), movies.to(device), targets.to(device)\n",
        "\n",
        "      outputs = model(users, movies)\n",
        "      loss = criterion(outputs, targets)\n",
        "      test_loss.append(loss.item())\n",
        "    test_loss = np.mean(test_loss)\n",
        "\n",
        "    #Save losses\n",
        "    train_losses[it] = train_loss\n",
        "    test_losses[it] = test_loss\n",
        "\n",
        "    dt = datetime.now() - t0\n",
        "    print(f'Epoch {it+1}/{epochs}, Train Loss: {train_loss: .4f}, \\\n",
        "    Test Loss: {test_loss: .4f}, Duration: {dt}')\n",
        "  return train_losses, test_losses"
      ],
      "metadata": {
        "id": "9flxg5xrnWOO"
      },
      "execution_count": 30,
      "outputs": []
    },
    {
      "cell_type": "code",
      "source": [
        "#shuffle the data in corresponding order\n",
        "user_ids, movie_ids, ratings = shuffle(user_ids, movie_ids, ratings)"
      ],
      "metadata": {
        "id": "kEpvoR1u60fk"
      },
      "execution_count": 31,
      "outputs": []
    },
    {
      "cell_type": "code",
      "source": [
        "Ntrain = int(0.8 * len(ratings))\n",
        "train_users = user_ids[:Ntrain]\n",
        "train_movies = movie_ids[:Ntrain]\n",
        "train_ratings = ratings[:Ntrain]\n",
        "\n",
        "test_users = user_ids[Ntrain:]\n",
        "test_movies = movie_ids[Ntrain:]\n",
        "test_ratings = ratings[Ntrain:]"
      ],
      "metadata": {
        "id": "kQ-a0CM97Rry"
      },
      "execution_count": 32,
      "outputs": []
    },
    {
      "cell_type": "code",
      "source": [
        "train_losses, test_losses = batch_gd(\n",
        "    model, criterion, optimizer,\n",
        "    (train_users, train_movies, train_ratings),\n",
        "    (test_users, test_movies, test_ratings),\n",
        "    10)"
      ],
      "metadata": {
        "id": "hQESyNfxthrq",
        "colab": {
          "base_uri": "https://localhost:8080/"
        },
        "outputId": "6f1ca283-412f-4d87-e30d-267bfcbe3df8"
      },
      "execution_count": 33,
      "outputs": [
        {
          "output_type": "stream",
          "name": "stdout",
          "text": [
            "Epoch 1/10, Train Loss:  0.7373,     Test Loss:  0.6974, Duration: 0:01:01.062339\n",
            "Epoch 2/10, Train Loss:  0.6688,     Test Loss:  0.6610, Duration: 0:01:02.647432\n",
            "Epoch 3/10, Train Loss:  0.6356,     Test Loss:  0.6592, Duration: 0:01:00.825315\n",
            "Epoch 4/10, Train Loss:  0.6147,     Test Loss:  0.6459, Duration: 0:01:03.827961\n",
            "Epoch 5/10, Train Loss:  0.5975,     Test Loss:  0.6340, Duration: 0:01:00.092025\n",
            "Epoch 6/10, Train Loss:  0.5843,     Test Loss:  0.6328, Duration: 0:01:02.271693\n",
            "Epoch 7/10, Train Loss:  0.5747,     Test Loss:  0.6287, Duration: 0:01:00.234451\n",
            "Epoch 8/10, Train Loss:  0.5675,     Test Loss:  0.6280, Duration: 0:01:03.856152\n",
            "Epoch 9/10, Train Loss:  0.5619,     Test Loss:  0.6300, Duration: 0:01:00.250181\n",
            "Epoch 10/10, Train Loss:  0.5572,     Test Loss:  0.6270, Duration: 0:01:01.805896\n"
          ]
        }
      ]
    },
    {
      "cell_type": "code",
      "source": [
        "#Plot the train loss  and test loss per iteration\n",
        "plt.plot(train_losses, label='train loss')\n",
        "plt.plot(test_losses, label='test loss')\n",
        "plt.legend()\n",
        "plt.show()"
      ],
      "metadata": {
        "id": "q58CNFtMt54a",
        "colab": {
          "base_uri": "https://localhost:8080/",
          "height": 430
        },
        "outputId": "231ba144-530e-441a-9eda-2aa244cb2a76"
      },
      "execution_count": 34,
      "outputs": [
        {
          "output_type": "display_data",
          "data": {
            "text/plain": [
              "<Figure size 640x480 with 1 Axes>"
            ],
            "image/png": "[encoded data removed]"
          },
          "metadata": {}
        }
      ]
    }
  ]
}