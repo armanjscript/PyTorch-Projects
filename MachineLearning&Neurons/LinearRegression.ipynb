{
  "nbformat": 4,
  "nbformat_minor": 0,
  "metadata": {
    "colab": {
      "provenance": []
    },
    "kernelspec": {
      "name": "python3",
      "display_name": "Python 3"
    },
    "language_info": {
      "name": "python"
    }
  },
  "cells": [
    {
      "cell_type": "code",
      "execution_count": 1,
      "metadata": {
        "id": "5xPcbjKYLNCA"
      },
      "outputs": [],
      "source": [
        "import torch\n",
        "import torch.nn as nn\n",
        "import numpy as np\n",
        "import matplotlib.pyplot as plt\n",
        "\n",
        "N= 20\n",
        "\n",
        "#Random data on x-axis in the range of (-5,5)\n",
        "X = np.random.random(N)*10 - 5\n",
        "\n",
        "# A line plus some noise\n",
        "Y = 0.5 * X - 1 + np.random.randn(N)\n"
      ]
    },
    {
      "cell_type": "code",
      "source": [
        "#Plot data\n",
        "plt.scatter(X, Y)"
      ],
      "metadata": {
        "colab": {
          "base_uri": "https://localhost:8080/",
          "height": 447
        },
        "id": "zTLi-jiFM5HB",
        "outputId": "de7de9c9-bbac-4dbc-9cda-50881dda586c"
      },
      "execution_count": 2,
      "outputs": [
        {
          "output_type": "execute_result",
          "data": {
            "text/plain": [
              "<matplotlib.collections.PathCollection at 0x79b407fb4430>"
            ]
          },
          "metadata": {},
          "execution_count": 2
        },
        {
          "output_type": "display_data",
          "data": {
            "text/plain": [
              "<Figure size 640x480 with 1 Axes>"
            ],
            "image/png": "[encoded data removed]"
          },
          "metadata": {}
        }
      ]
    },
    {
      "cell_type": "code",
      "source": [
        "#Create linear regression model\n",
        "model = nn.Linear(1, 1)"
      ],
      "metadata": {
        "id": "U8iwvLEQQSe5"
      },
      "execution_count": 3,
      "outputs": []
    },
    {
      "cell_type": "code",
      "source": [
        "#Create loss and optimizer functions\n",
        "criterion = nn.MSELoss()\n",
        "optimizer = torch.optim.SGD(model.parameters(), lr=0.1)"
      ],
      "metadata": {
        "id": "JRLlujavQhMP"
      },
      "execution_count": 4,
      "outputs": []
    },
    {
      "cell_type": "code",
      "source": [
        "X = X.reshape(N, 1)\n",
        "Y = Y.reshape(N, 1)"
      ],
      "metadata": {
        "id": "Z9qXYN0jRCLR"
      },
      "execution_count": 5,
      "outputs": []
    },
    {
      "cell_type": "code",
      "source": [
        "#Convert numpy arrays to torch tensors\n",
        "inputs = torch.from_numpy(X.astype(np.float32))\n",
        "targets = torch.from_numpy(Y.astype(np.float32))"
      ],
      "metadata": {
        "id": "uYgPU-YtRS8v"
      },
      "execution_count": 6,
      "outputs": []
    },
    {
      "cell_type": "code",
      "source": [
        "type(inputs)"
      ],
      "metadata": {
        "colab": {
          "base_uri": "https://localhost:8080/"
        },
        "id": "10cPXySLR4Z-",
        "outputId": "f3e0864a-6f43-4786-ff1b-cb064c184dea"
      },
      "execution_count": 7,
      "outputs": [
        {
          "output_type": "execute_result",
          "data": {
            "text/plain": [
              "torch.Tensor"
            ]
          },
          "metadata": {},
          "execution_count": 7
        }
      ]
    },
    {
      "cell_type": "code",
      "source": [
        "#Train model\n",
        "\n",
        "n_epochs = 30\n",
        "losses = []\n",
        "\n",
        "for it in range(n_epochs):\n",
        "  #zero the parameter gradients\n",
        "  optimizer.zero_grad()\n",
        "\n",
        "  #Forward pass\n",
        "  outputs = model(inputs)\n",
        "  loss = criterion(outputs, targets)\n",
        "\n",
        "  #Keep the losses for plotting later\n",
        "  losses.append(loss.item())\n",
        "\n",
        "  #Backward\n",
        "  loss.backward()\n",
        "  optimizer.step()\n",
        "\n",
        "  print(f'Epoch{it+1}/{n_epochs}, Loss: {loss.item():.4f}')\n"
      ],
      "metadata": {
        "colab": {
          "base_uri": "https://localhost:8080/"
        },
        "id": "uPdsT-ddR-Hs",
        "outputId": "b89d7a5a-cf91-4297-9c1c-feadb54fa021"
      },
      "execution_count": 8,
      "outputs": [
        {
          "output_type": "stream",
          "name": "stdout",
          "text": [
            "Epoch1/30, Loss: 2.3746\n",
            "Epoch2/30, Loss: 1.7941\n",
            "Epoch3/30, Loss: 1.4433\n",
            "Epoch4/30, Loss: 1.2164\n",
            "Epoch5/30, Loss: 1.0643\n",
            "Epoch6/30, Loss: 0.9605\n",
            "Epoch7/30, Loss: 0.8890\n",
            "Epoch8/30, Loss: 0.8395\n",
            "Epoch9/30, Loss: 0.8053\n",
            "Epoch10/30, Loss: 0.7815\n",
            "Epoch11/30, Loss: 0.7650\n",
            "Epoch12/30, Loss: 0.7536\n",
            "Epoch13/30, Loss: 0.7457\n",
            "Epoch14/30, Loss: 0.7402\n",
            "Epoch15/30, Loss: 0.7364\n",
            "Epoch16/30, Loss: 0.7337\n",
            "Epoch17/30, Loss: 0.7319\n",
            "Epoch18/30, Loss: 0.7306\n",
            "Epoch19/30, Loss: 0.7297\n",
            "Epoch20/30, Loss: 0.7291\n",
            "Epoch21/30, Loss: 0.7287\n",
            "Epoch22/30, Loss: 0.7284\n",
            "Epoch23/30, Loss: 0.7282\n",
            "Epoch24/30, Loss: 0.7280\n",
            "Epoch25/30, Loss: 0.7279\n",
            "Epoch26/30, Loss: 0.7279\n",
            "Epoch27/30, Loss: 0.7278\n",
            "Epoch28/30, Loss: 0.7278\n",
            "Epoch29/30, Loss: 0.7278\n",
            "Epoch30/30, Loss: 0.7278\n"
          ]
        }
      ]
    },
    {
      "cell_type": "code",
      "source": [
        "#Plot  losses per iteration\n",
        "plt.plot(losses)"
      ],
      "metadata": {
        "colab": {
          "base_uri": "https://localhost:8080/",
          "height": 447
        },
        "id": "58RB1SbBUr5q",
        "outputId": "54801c7b-b4a8-4b32-a1a3-9f7f0a44149f"
      },
      "execution_count": 9,
      "outputs": [
        {
          "output_type": "execute_result",
          "data": {
            "text/plain": [
              "[<matplotlib.lines.Line2D at 0x79b3ee671030>]"
            ]
          },
          "metadata": {},
          "execution_count": 9
        },
        {
          "output_type": "display_data",
          "data": {
            "text/plain": [
              "<Figure size 640x480 with 1 Axes>"
            ],
            "image/png": "[encoded data removed]"
          },
          "metadata": {}
        }
      ]
    },
    {
      "cell_type": "code",
      "source": [
        "#Plot the graph\n",
        "predicted = model(inputs).detach().numpy()\n",
        "plt.scatter(X, Y, label = 'Original data')\n",
        "plt.plot(X, predicted, label='Fitted Line')\n",
        "plt.legend()\n",
        "plt.show()"
      ],
      "metadata": {
        "colab": {
          "base_uri": "https://localhost:8080/",
          "height": 430
        },
        "id": "s2eTNXpFVAVf",
        "outputId": "379b2367-6c78-4449-f804-236b6d265561"
      },
      "execution_count": 10,
      "outputs": [
        {
          "output_type": "display_data",
          "data": {
            "text/plain": [
              "<Figure size 640x480 with 1 Axes>"
            ],
            "image/png": "[encoded data removed]"
          },
          "metadata": {}
        }
      ]
    },
    {
      "cell_type": "code",
      "source": [
        "#Another way for detaching model predictions\n",
        "with torch.no_grad():\n",
        "  out = model(inputs).numpy()\n",
        "out"
      ],
      "metadata": {
        "colab": {
          "base_uri": "https://localhost:8080/"
        },
        "id": "pigSLk-EWG7f",
        "outputId": "9d34182a-8126-439f-c499-2ecd3f62b523"
      },
      "execution_count": 11,
      "outputs": [
        {
          "output_type": "execute_result",
          "data": {
            "text/plain": [
              "array([[ 1.8732785 ],\n",
              "       [-2.2775443 ],\n",
              "       [ 0.82307935],\n",
              "       [-0.622704  ],\n",
              "       [ 0.9826329 ],\n",
              "       [ 1.0075853 ],\n",
              "       [ 0.7887752 ],\n",
              "       [ 1.0926005 ],\n",
              "       [ 0.5569236 ],\n",
              "       [-2.350502  ],\n",
              "       [-2.976303  ],\n",
              "       [ 0.5101892 ],\n",
              "       [-1.6299748 ],\n",
              "       [ 0.29518998],\n",
              "       [-2.5127015 ],\n",
              "       [ 1.103221  ],\n",
              "       [-0.1695559 ],\n",
              "       [ 0.74490654],\n",
              "       [-0.7225242 ],\n",
              "       [-2.8889418 ]], dtype=float32)"
            ]
          },
          "metadata": {},
          "execution_count": 11
        }
      ]
    },
    {
      "cell_type": "code",
      "source": [
        "#Model weights and bias : True values are (0.5, -1)\n",
        "\n",
        "w =model.weight.data.numpy()\n",
        "b = model.bias.data.numpy()\n",
        "\n",
        "print(w, b)"
      ],
      "metadata": {
        "colab": {
          "base_uri": "https://localhost:8080/"
        },
        "id": "drDyCn0uWlud",
        "outputId": "bb2b93d0-4b10-4886-f81b-1bcf02b31d15"
      },
      "execution_count": 12,
      "outputs": [
        {
          "output_type": "stream",
          "name": "stdout",
          "text": [
            "[[0.5946229]] [-0.9490944]\n"
          ]
        }
      ]
    }
  ]
}